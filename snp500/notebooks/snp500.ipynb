{
 "cells": [
  {
   "cell_type": "code",
   "execution_count": 20,
   "metadata": {
    "collapsed": true
   },
   "outputs": [],
   "source": [
    "%matplotlib inline\n",
    "import h5pyd as h5py\n",
    "import numpy as np\n",
    "import pandas as pd\n",
    "import matplotlib.pyplot as plt"
   ]
  },
  {
   "cell_type": "code",
   "execution_count": 21,
   "metadata": {
    "collapsed": false
   },
   "outputs": [],
   "source": [
    "f = h5py.File('/home/john/sample/snp500.h5', 'r')"
   ]
  },
  {
   "cell_type": "code",
   "execution_count": 22,
   "metadata": {
    "collapsed": true
   },
   "outputs": [],
   "source": [
    "dset = f['/dset']"
   ]
  },
  {
   "cell_type": "code",
   "execution_count": 23,
   "metadata": {
    "collapsed": false
   },
   "outputs": [
    {
     "data": {
      "text/plain": [
       "'d-628f9886-1050-11e7-a7d9-0242ac110009'"
      ]
     },
     "execution_count": 23,
     "metadata": {},
     "output_type": "execute_result"
    }
   ],
   "source": [
    "dset.id.id"
   ]
  },
  {
   "cell_type": "code",
   "execution_count": 24,
   "metadata": {
    "collapsed": false
   },
   "outputs": [
    {
     "data": {
      "text/plain": [
       "(3207353,)"
      ]
     },
     "execution_count": 24,
     "metadata": {},
     "output_type": "execute_result"
    }
   ],
   "source": [
    "dset.shape"
   ]
  },
  {
   "cell_type": "code",
   "execution_count": 25,
   "metadata": {
    "collapsed": false
   },
   "outputs": [
    {
     "data": {
      "text/plain": [
       "[1024]"
      ]
     },
     "execution_count": 25,
     "metadata": {},
     "output_type": "execute_result"
    }
   ],
   "source": [
    "dset.chunks"
   ]
  },
  {
   "cell_type": "code",
   "execution_count": 26,
   "metadata": {
    "collapsed": false
   },
   "outputs": [
    {
     "data": {
      "text/plain": [
       "dtype([('date', 'S10'), ('symbol', 'S4'), ('sector', 'i1'), ('open', '<f4'), ('high', '<f4'), ('low', '<f4'), ('volume', '<f4'), ('close', '<f4')])"
      ]
     },
     "execution_count": 26,
     "metadata": {},
     "output_type": "execute_result"
    }
   ],
   "source": [
    "dset.dtype"
   ]
  },
  {
   "cell_type": "code",
   "execution_count": 27,
   "metadata": {
    "collapsed": false
   },
   "outputs": [
    {
     "data": {
      "text/plain": [
       "array([ (b'1970.01.02', b'DIS', 0, 0.48172345757484436, 0.48261934518814087, 0.47812598943710327, 1109700.0, 0.47812598943710327),\n",
       "       (b'1970.01.02', b'GT', 0, 3.6546921730041504, 3.7735438346862793, 3.595266342163086, 64600.0, 3.743830919265747),\n",
       "       (b'1970.01.02', b'MCD', 0, 0.19071492552757263, 0.196260005235672, 0.19071492552757263, 2825600.0, 0.196260005235672),\n",
       "       (b'1970.01.02', b'KO', 1, 0.24328100681304932, 0.24328100681304932, 0.24143248796463013, 1104000.0, 0.24328100681304932),\n",
       "       (b'1970.01.02', b'MO', 1, 0.01292873453348875, 0.013019000180065632, 0.012747857719659805, 1948800.0, 0.013019000180065632),\n",
       "       (b'1970.01.02', b'PG', 1, 0.46925097703933716, 0.4724653661251068, 0.4687134325504303, 832000.0, 0.47139298915863037),\n",
       "       (b'1970.01.02', b'CVX', 2, 0.6132509708404541, 0.6267449855804443, 0.6132509708404541, 526400.0, 0.6267449855804443),\n",
       "       (b'1970.01.02', b'MRO', 2, 1.3239198923110962, 1.3531229496002197, 1.3239198923110962, 70700.0, 1.3531229496002197),\n",
       "       (b'1970.01.02', b'XOM', 2, 0.23651276528835297, 0.23747000098228455, 0.23603354394435883, 1174400.0, 0.23747000098228455),\n",
       "       (b'1970.01.02', b'JNJ', 4, 0.4844153821468353, 0.4857600927352905, 0.4723049998283386, 1195200.0, 0.4723049998283386),\n",
       "       (b'1970.01.02', b'MRK', 4, 0.4126113951206207, 0.4126113951206207, 0.40620869398117065, 475200.0, 0.40712299942970276),\n",
       "       (b'1970.01.02', b'BA', 5, 0.30631643533706665, 0.32401201128959656, 0.30631643533706665, 634400.0, 0.32401201128959656)], \n",
       "      dtype=[('date', 'S10'), ('symbol', 'S4'), ('sector', 'i1'), ('open', '<f4'), ('high', '<f4'), ('low', '<f4'), ('volume', '<f4'), ('close', '<f4')])"
      ]
     },
     "execution_count": 27,
     "metadata": {},
     "output_type": "execute_result"
    }
   ],
   "source": [
    "dset[0:12]"
   ]
  },
  {
   "cell_type": "code",
   "execution_count": 28,
   "metadata": {
    "collapsed": true
   },
   "outputs": [],
   "source": [
    "values = dset[0:12]\n",
    "index = [str(i) for i in range(1, len(values)+1)]\n",
    "df = pd.DataFrame(values, index=index)"
   ]
  },
  {
   "cell_type": "code",
   "execution_count": 29,
   "metadata": {
    "collapsed": false
   },
   "outputs": [
    {
     "data": {
      "text/html": [
       "<div>\n",
       "<table border=\"1\" class=\"dataframe\">\n",
       "  <thead>\n",
       "    <tr style=\"text-align: right;\">\n",
       "      <th></th>\n",
       "      <th>date</th>\n",
       "      <th>symbol</th>\n",
       "      <th>sector</th>\n",
       "      <th>open</th>\n",
       "      <th>high</th>\n",
       "      <th>low</th>\n",
       "      <th>volume</th>\n",
       "      <th>close</th>\n",
       "    </tr>\n",
       "  </thead>\n",
       "  <tbody>\n",
       "    <tr>\n",
       "      <th>1</th>\n",
       "      <td>b'1970.01.02'</td>\n",
       "      <td>b'DIS'</td>\n",
       "      <td>0</td>\n",
       "      <td>0.481723</td>\n",
       "      <td>0.482619</td>\n",
       "      <td>0.478126</td>\n",
       "      <td>1109700.0</td>\n",
       "      <td>0.478126</td>\n",
       "    </tr>\n",
       "    <tr>\n",
       "      <th>2</th>\n",
       "      <td>b'1970.01.02'</td>\n",
       "      <td>b'GT'</td>\n",
       "      <td>0</td>\n",
       "      <td>3.654692</td>\n",
       "      <td>3.773544</td>\n",
       "      <td>3.595266</td>\n",
       "      <td>64600.0</td>\n",
       "      <td>3.743831</td>\n",
       "    </tr>\n",
       "    <tr>\n",
       "      <th>3</th>\n",
       "      <td>b'1970.01.02'</td>\n",
       "      <td>b'MCD'</td>\n",
       "      <td>0</td>\n",
       "      <td>0.190715</td>\n",
       "      <td>0.196260</td>\n",
       "      <td>0.190715</td>\n",
       "      <td>2825600.0</td>\n",
       "      <td>0.196260</td>\n",
       "    </tr>\n",
       "    <tr>\n",
       "      <th>4</th>\n",
       "      <td>b'1970.01.02'</td>\n",
       "      <td>b'KO'</td>\n",
       "      <td>1</td>\n",
       "      <td>0.243281</td>\n",
       "      <td>0.243281</td>\n",
       "      <td>0.241432</td>\n",
       "      <td>1104000.0</td>\n",
       "      <td>0.243281</td>\n",
       "    </tr>\n",
       "    <tr>\n",
       "      <th>5</th>\n",
       "      <td>b'1970.01.02'</td>\n",
       "      <td>b'MO'</td>\n",
       "      <td>1</td>\n",
       "      <td>0.012929</td>\n",
       "      <td>0.013019</td>\n",
       "      <td>0.012748</td>\n",
       "      <td>1948800.0</td>\n",
       "      <td>0.013019</td>\n",
       "    </tr>\n",
       "    <tr>\n",
       "      <th>6</th>\n",
       "      <td>b'1970.01.02'</td>\n",
       "      <td>b'PG'</td>\n",
       "      <td>1</td>\n",
       "      <td>0.469251</td>\n",
       "      <td>0.472465</td>\n",
       "      <td>0.468713</td>\n",
       "      <td>832000.0</td>\n",
       "      <td>0.471393</td>\n",
       "    </tr>\n",
       "    <tr>\n",
       "      <th>7</th>\n",
       "      <td>b'1970.01.02'</td>\n",
       "      <td>b'CVX'</td>\n",
       "      <td>2</td>\n",
       "      <td>0.613251</td>\n",
       "      <td>0.626745</td>\n",
       "      <td>0.613251</td>\n",
       "      <td>526400.0</td>\n",
       "      <td>0.626745</td>\n",
       "    </tr>\n",
       "    <tr>\n",
       "      <th>8</th>\n",
       "      <td>b'1970.01.02'</td>\n",
       "      <td>b'MRO'</td>\n",
       "      <td>2</td>\n",
       "      <td>1.323920</td>\n",
       "      <td>1.353123</td>\n",
       "      <td>1.323920</td>\n",
       "      <td>70700.0</td>\n",
       "      <td>1.353123</td>\n",
       "    </tr>\n",
       "    <tr>\n",
       "      <th>9</th>\n",
       "      <td>b'1970.01.02'</td>\n",
       "      <td>b'XOM'</td>\n",
       "      <td>2</td>\n",
       "      <td>0.236513</td>\n",
       "      <td>0.237470</td>\n",
       "      <td>0.236034</td>\n",
       "      <td>1174400.0</td>\n",
       "      <td>0.237470</td>\n",
       "    </tr>\n",
       "    <tr>\n",
       "      <th>10</th>\n",
       "      <td>b'1970.01.02'</td>\n",
       "      <td>b'JNJ'</td>\n",
       "      <td>4</td>\n",
       "      <td>0.484415</td>\n",
       "      <td>0.485760</td>\n",
       "      <td>0.472305</td>\n",
       "      <td>1195200.0</td>\n",
       "      <td>0.472305</td>\n",
       "    </tr>\n",
       "    <tr>\n",
       "      <th>11</th>\n",
       "      <td>b'1970.01.02'</td>\n",
       "      <td>b'MRK'</td>\n",
       "      <td>4</td>\n",
       "      <td>0.412611</td>\n",
       "      <td>0.412611</td>\n",
       "      <td>0.406209</td>\n",
       "      <td>475200.0</td>\n",
       "      <td>0.407123</td>\n",
       "    </tr>\n",
       "    <tr>\n",
       "      <th>12</th>\n",
       "      <td>b'1970.01.02'</td>\n",
       "      <td>b'BA'</td>\n",
       "      <td>5</td>\n",
       "      <td>0.306316</td>\n",
       "      <td>0.324012</td>\n",
       "      <td>0.306316</td>\n",
       "      <td>634400.0</td>\n",
       "      <td>0.324012</td>\n",
       "    </tr>\n",
       "  </tbody>\n",
       "</table>\n",
       "</div>"
      ],
      "text/plain": [
       "             date  symbol  sector      open      high       low     volume  \\\n",
       "1   b'1970.01.02'  b'DIS'       0  0.481723  0.482619  0.478126  1109700.0   \n",
       "2   b'1970.01.02'   b'GT'       0  3.654692  3.773544  3.595266    64600.0   \n",
       "3   b'1970.01.02'  b'MCD'       0  0.190715  0.196260  0.190715  2825600.0   \n",
       "4   b'1970.01.02'   b'KO'       1  0.243281  0.243281  0.241432  1104000.0   \n",
       "5   b'1970.01.02'   b'MO'       1  0.012929  0.013019  0.012748  1948800.0   \n",
       "6   b'1970.01.02'   b'PG'       1  0.469251  0.472465  0.468713   832000.0   \n",
       "7   b'1970.01.02'  b'CVX'       2  0.613251  0.626745  0.613251   526400.0   \n",
       "8   b'1970.01.02'  b'MRO'       2  1.323920  1.353123  1.323920    70700.0   \n",
       "9   b'1970.01.02'  b'XOM'       2  0.236513  0.237470  0.236034  1174400.0   \n",
       "10  b'1970.01.02'  b'JNJ'       4  0.484415  0.485760  0.472305  1195200.0   \n",
       "11  b'1970.01.02'  b'MRK'       4  0.412611  0.412611  0.406209   475200.0   \n",
       "12  b'1970.01.02'   b'BA'       5  0.306316  0.324012  0.306316   634400.0   \n",
       "\n",
       "       close  \n",
       "1   0.478126  \n",
       "2   3.743831  \n",
       "3   0.196260  \n",
       "4   0.243281  \n",
       "5   0.013019  \n",
       "6   0.471393  \n",
       "7   0.626745  \n",
       "8   1.353123  \n",
       "9   0.237470  \n",
       "10  0.472305  \n",
       "11  0.407123  \n",
       "12  0.324012  "
      ]
     },
     "execution_count": 29,
     "metadata": {},
     "output_type": "execute_result"
    }
   ],
   "source": [
    "df"
   ]
  },
  {
   "cell_type": "code",
   "execution_count": 39,
   "metadata": {
    "collapsed": false
   },
   "outputs": [],
   "source": [
    "result = dset.read_where(\"symbol == b'IBM'\")"
   ]
  },
  {
   "cell_type": "code",
   "execution_count": 40,
   "metadata": {
    "collapsed": false
   },
   "outputs": [
    {
     "data": {
      "text/plain": [
       "(11580,)"
      ]
     },
     "execution_count": 40,
     "metadata": {},
     "output_type": "execute_result"
    }
   ],
   "source": [
    "result.shape"
   ]
  },
  {
   "cell_type": "code",
   "execution_count": 41,
   "metadata": {
    "collapsed": true
   },
   "outputs": [],
   "source": [
    "values = result[0:12]\n",
    "index = [str(i) for i in range(1, len(values)+1)]\n",
    "df = pd.DataFrame(values, index=index)"
   ]
  },
  {
   "cell_type": "code",
   "execution_count": 42,
   "metadata": {
    "collapsed": false,
    "scrolled": true
   },
   "outputs": [
    {
     "data": {
      "text/html": [
       "<div>\n",
       "<table border=\"1\" class=\"dataframe\">\n",
       "  <thead>\n",
       "    <tr style=\"text-align: right;\">\n",
       "      <th></th>\n",
       "      <th>date</th>\n",
       "      <th>symbol</th>\n",
       "      <th>sector</th>\n",
       "      <th>open</th>\n",
       "      <th>high</th>\n",
       "      <th>low</th>\n",
       "      <th>volume</th>\n",
       "      <th>close</th>\n",
       "    </tr>\n",
       "  </thead>\n",
       "  <tbody>\n",
       "    <tr>\n",
       "      <th>1</th>\n",
       "      <td>b'1970.01.02'</td>\n",
       "      <td>b'IBM'</td>\n",
       "      <td>6</td>\n",
       "      <td>5.748301</td>\n",
       "      <td>5.768014</td>\n",
       "      <td>5.740416</td>\n",
       "      <td>315200.0</td>\n",
       "      <td>5.752243</td>\n",
       "    </tr>\n",
       "    <tr>\n",
       "      <th>2</th>\n",
       "      <td>b'1970.01.05'</td>\n",
       "      <td>b'IBM'</td>\n",
       "      <td>6</td>\n",
       "      <td>5.771956</td>\n",
       "      <td>5.807440</td>\n",
       "      <td>5.771956</td>\n",
       "      <td>424000.0</td>\n",
       "      <td>5.807440</td>\n",
       "    </tr>\n",
       "    <tr>\n",
       "      <th>3</th>\n",
       "      <td>b'1970.01.06'</td>\n",
       "      <td>b'IBM'</td>\n",
       "      <td>6</td>\n",
       "      <td>5.807440</td>\n",
       "      <td>5.819268</td>\n",
       "      <td>5.775899</td>\n",
       "      <td>488000.0</td>\n",
       "      <td>5.811382</td>\n",
       "    </tr>\n",
       "    <tr>\n",
       "      <th>4</th>\n",
       "      <td>b'1970.01.07'</td>\n",
       "      <td>b'IBM'</td>\n",
       "      <td>6</td>\n",
       "      <td>5.811382</td>\n",
       "      <td>5.815325</td>\n",
       "      <td>5.775899</td>\n",
       "      <td>457600.0</td>\n",
       "      <td>5.815325</td>\n",
       "    </tr>\n",
       "    <tr>\n",
       "      <th>5</th>\n",
       "      <td>b'1970.01.08'</td>\n",
       "      <td>b'IBM'</td>\n",
       "      <td>6</td>\n",
       "      <td>5.815325</td>\n",
       "      <td>5.827153</td>\n",
       "      <td>5.795612</td>\n",
       "      <td>707200.0</td>\n",
       "      <td>5.827153</td>\n",
       "    </tr>\n",
       "    <tr>\n",
       "      <th>6</th>\n",
       "      <td>b'1970.01.09'</td>\n",
       "      <td>b'IBM'</td>\n",
       "      <td>6</td>\n",
       "      <td>5.827153</td>\n",
       "      <td>5.842923</td>\n",
       "      <td>5.811382</td>\n",
       "      <td>585600.0</td>\n",
       "      <td>5.819268</td>\n",
       "    </tr>\n",
       "    <tr>\n",
       "      <th>7</th>\n",
       "      <td>b'1970.01.12'</td>\n",
       "      <td>b'IBM'</td>\n",
       "      <td>6</td>\n",
       "      <td>5.819268</td>\n",
       "      <td>5.831095</td>\n",
       "      <td>5.799555</td>\n",
       "      <td>379200.0</td>\n",
       "      <td>5.799555</td>\n",
       "    </tr>\n",
       "    <tr>\n",
       "      <th>8</th>\n",
       "      <td>b'1970.01.13'</td>\n",
       "      <td>b'IBM'</td>\n",
       "      <td>6</td>\n",
       "      <td>5.799554</td>\n",
       "      <td>5.929659</td>\n",
       "      <td>5.799554</td>\n",
       "      <td>744000.0</td>\n",
       "      <td>5.900090</td>\n",
       "    </tr>\n",
       "    <tr>\n",
       "      <th>9</th>\n",
       "      <td>b'1970.01.14'</td>\n",
       "      <td>b'IBM'</td>\n",
       "      <td>6</td>\n",
       "      <td>5.900091</td>\n",
       "      <td>5.921775</td>\n",
       "      <td>5.882349</td>\n",
       "      <td>392000.0</td>\n",
       "      <td>5.894177</td>\n",
       "    </tr>\n",
       "    <tr>\n",
       "      <th>10</th>\n",
       "      <td>b'1970.01.15'</td>\n",
       "      <td>b'IBM'</td>\n",
       "      <td>6</td>\n",
       "      <td>5.913889</td>\n",
       "      <td>6.016397</td>\n",
       "      <td>5.913889</td>\n",
       "      <td>420800.0</td>\n",
       "      <td>6.016397</td>\n",
       "    </tr>\n",
       "    <tr>\n",
       "      <th>11</th>\n",
       "      <td>b'1970.01.16'</td>\n",
       "      <td>b'IBM'</td>\n",
       "      <td>6</td>\n",
       "      <td>6.016397</td>\n",
       "      <td>6.103134</td>\n",
       "      <td>5.819268</td>\n",
       "      <td>1283200.0</td>\n",
       "      <td>5.831095</td>\n",
       "    </tr>\n",
       "    <tr>\n",
       "      <th>12</th>\n",
       "      <td>b'1970.01.19'</td>\n",
       "      <td>b'IBM'</td>\n",
       "      <td>6</td>\n",
       "      <td>5.600453</td>\n",
       "      <td>5.600453</td>\n",
       "      <td>5.511745</td>\n",
       "      <td>744000.0</td>\n",
       "      <td>5.519630</td>\n",
       "    </tr>\n",
       "  </tbody>\n",
       "</table>\n",
       "</div>"
      ],
      "text/plain": [
       "             date  symbol  sector      open      high       low     volume  \\\n",
       "1   b'1970.01.02'  b'IBM'       6  5.748301  5.768014  5.740416   315200.0   \n",
       "2   b'1970.01.05'  b'IBM'       6  5.771956  5.807440  5.771956   424000.0   \n",
       "3   b'1970.01.06'  b'IBM'       6  5.807440  5.819268  5.775899   488000.0   \n",
       "4   b'1970.01.07'  b'IBM'       6  5.811382  5.815325  5.775899   457600.0   \n",
       "5   b'1970.01.08'  b'IBM'       6  5.815325  5.827153  5.795612   707200.0   \n",
       "6   b'1970.01.09'  b'IBM'       6  5.827153  5.842923  5.811382   585600.0   \n",
       "7   b'1970.01.12'  b'IBM'       6  5.819268  5.831095  5.799555   379200.0   \n",
       "8   b'1970.01.13'  b'IBM'       6  5.799554  5.929659  5.799554   744000.0   \n",
       "9   b'1970.01.14'  b'IBM'       6  5.900091  5.921775  5.882349   392000.0   \n",
       "10  b'1970.01.15'  b'IBM'       6  5.913889  6.016397  5.913889   420800.0   \n",
       "11  b'1970.01.16'  b'IBM'       6  6.016397  6.103134  5.819268  1283200.0   \n",
       "12  b'1970.01.19'  b'IBM'       6  5.600453  5.600453  5.511745   744000.0   \n",
       "\n",
       "       close  \n",
       "1   5.752243  \n",
       "2   5.807440  \n",
       "3   5.811382  \n",
       "4   5.815325  \n",
       "5   5.827153  \n",
       "6   5.819268  \n",
       "7   5.799555  \n",
       "8   5.900090  \n",
       "9   5.894177  \n",
       "10  6.016397  \n",
       "11  5.831095  \n",
       "12  5.519630  "
      ]
     },
     "execution_count": 42,
     "metadata": {},
     "output_type": "execute_result"
    }
   ],
   "source": [
    "df"
   ]
  },
  {
   "cell_type": "code",
   "execution_count": 43,
   "metadata": {
    "collapsed": false
   },
   "outputs": [
    {
     "data": {
      "text/plain": [
       "(b'2015.11.20', b'IBM', 6, 137.3699951171875, 138.9199981689453, 137.25, 5151400.0, 138.5)"
      ]
     },
     "execution_count": 43,
     "metadata": {},
     "output_type": "execute_result"
    }
   ],
   "source": [
    "result[-1]"
   ]
  },
  {
   "cell_type": "code",
   "execution_count": 44,
   "metadata": {
    "collapsed": false
   },
   "outputs": [
    {
     "data": {
      "image/png": "[encoded data removed]",
      "text/plain": [
       "<matplotlib.figure.Figure at 0x10ce167f0>"
      ]
     },
     "metadata": {},
     "output_type": "display_data"
    }
   ],
   "source": [
    "plt.semilogy(result['open'])\n",
    "plt.title('open price')\n",
    "plt.show()"
   ]
  },
  {
   "cell_type": "code",
   "execution_count": null,
   "metadata": {
    "collapsed": true
   },
   "outputs": [],
   "source": []
  }
 ],
 "metadata": {
  "kernelspec": {
   "display_name": "Python 3",
   "language": "python",
   "name": "python3"
  },
  "language_info": {
   "codemirror_mode": {
    "name": "ipython",
    "version": 3
   },
   "file_extension": ".py",
   "mimetype": "text/x-python",
   "name": "python",
   "nbconvert_exporter": "python",
   "pygments_lexer": "ipython3",
   "version": "3.4.5"
  }
 },
 "nbformat": 4,
 "nbformat_minor": 0
}
